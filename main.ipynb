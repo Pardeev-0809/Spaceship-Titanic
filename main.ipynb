{
  "nbformat": 4,
  "nbformat_minor": 0,
  "metadata": {
    "colab": {
      "name": "Test6.ipynb",
      "provenance": [],
      "collapsed_sections": []
    },
    "kernelspec": {
      "name": "python3",
      "display_name": "Python 3"
    },
    "language_info": {
      "name": "python"
    }
  },
  "cells": [
    {
      "cell_type": "markdown",
      "source": [
        "**Importing Helper Library** "
      ],
      "metadata": {
        "id": "qk_t_o0vcNZa"
      }
    },
    {
      "cell_type": "code",
      "execution_count": null,
      "metadata": {
        "id": "kwhkhElpE1Yv"
      },
      "outputs": [],
      "source": [
        "import numpy as np\n",
        "import pandas as pd\n",
        "\n",
        "from sklearn.preprocessing import LabelEncoder\n",
        "from sklearn.preprocessing import StandardScaler"
      ]
    },
    {
      "cell_type": "code",
      "source": [
        "from sklearn.tree import DecisionTreeClassifier\n",
        "from sklearn.ensemble import RandomForestClassifier,VotingClassifier\n",
        "from sklearn.neighbors import KNeighborsClassifier\n",
        "from sklearn.cluster import KMeans\n",
        "from sklearn.linear_model import LogisticRegression\n",
        "\n",
        "from sklearn.model_selection import  train_test_split\n",
        "from sklearn.metrics import confusion_matrix\n",
        "from sklearn.metrics import classification_report"
      ],
      "metadata": {
        "id": "_0UXZrcCrSB5"
      },
      "execution_count": null,
      "outputs": []
    },
    {
      "cell_type": "markdown",
      "source": [
        "**Importing Training and Test File** "
      ],
      "metadata": {
        "id": "RfYULHOTcoZO"
      }
    },
    {
      "cell_type": "code",
      "source": [
        "datapath = \"./train.csv\"\n",
        "ogData = pd.read_csv(datapath)\n",
        "\n",
        "testDatapath = \"./test.csv\"\n",
        "ogTestData = pd.read_csv(testDatapath)"
      ],
      "metadata": {
        "id": "j5ynts6JGet_"
      },
      "execution_count": null,
      "outputs": []
    },
    {
      "cell_type": "markdown",
      "source": [
        "**Checking if data has NULL values or not** "
      ],
      "metadata": {
        "id": "JAsELVepdBHK"
      }
    },
    {
      "cell_type": "code",
      "source": [
        "print(ogData.isnull().sum())\n",
        "print(ogTestData.isnull().sum())"
      ],
      "metadata": {
        "colab": {
          "base_uri": "https://localhost:8080/"
        },
        "id": "qoGBL5ixGrzI",
        "outputId": "a6318959-9b9c-4152-83eb-d672b939096b"
      },
      "execution_count": null,
      "outputs": [
        {
          "output_type": "stream",
          "name": "stdout",
          "text": [
            "PassengerId       0\n",
            "HomePlanet      201\n",
            "CryoSleep       217\n",
            "Cabin           199\n",
            "Destination     182\n",
            "Age             179\n",
            "VIP             203\n",
            "RoomService     181\n",
            "FoodCourt       183\n",
            "ShoppingMall    208\n",
            "Spa             183\n",
            "VRDeck          188\n",
            "Name            200\n",
            "Transported       0\n",
            "dtype: int64\n",
            "PassengerId       0\n",
            "HomePlanet       87\n",
            "CryoSleep        93\n",
            "Cabin           100\n",
            "Destination      92\n",
            "Age              91\n",
            "VIP              93\n",
            "RoomService      82\n",
            "FoodCourt       106\n",
            "ShoppingMall     98\n",
            "Spa             101\n",
            "VRDeck           80\n",
            "Name             94\n",
            "dtype: int64\n"
          ]
        }
      ]
    },
    {
      "cell_type": "markdown",
      "source": [
        "**Setting Original Data into New Variable, so that Original Data can't be Altered** "
      ],
      "metadata": {
        "id": "H3Ps2tI5dJ3A"
      }
    },
    {
      "cell_type": "code",
      "source": [
        "data = ogData\n",
        "testData = ogTestData"
      ],
      "metadata": {
        "id": "R0UHlR-_gW5t"
      },
      "execution_count": null,
      "outputs": []
    },
    {
      "cell_type": "markdown",
      "source": [
        "**Printing Unique Values of Data** "
      ],
      "metadata": {
        "id": "7X1Ay5ihdgZw"
      }
    },
    {
      "cell_type": "code",
      "source": [
        "for i in data:\n",
        "  print(i, data[i].unique())"
      ],
      "metadata": {
        "colab": {
          "base_uri": "https://localhost:8080/"
        },
        "id": "btaorGyCofuc",
        "outputId": "6f663471-cb7c-4feb-e060-208e6d8432e0"
      },
      "execution_count": null,
      "outputs": [
        {
          "output_type": "stream",
          "name": "stdout",
          "text": [
            "PassengerId ['0001_01' '0002_01' '0003_01' ... '9279_01' '9280_01' '9280_02']\n",
            "HomePlanet ['Europa' 'Earth' 'Mars' nan]\n",
            "CryoSleep [False True nan]\n",
            "Cabin ['B/0/P' 'F/0/S' 'A/0/S' ... 'G/1499/S' 'G/1500/S' 'E/608/S']\n",
            "Destination ['TRAPPIST-1e' 'PSO J318.5-22' '55 Cancri e' nan]\n",
            "Age [39. 24. 58. 33. 16. 44. 26. 28. 35. 14. 34. 45. 32. 48. 31. 27.  0.  1.\n",
            " 49. 29. 10.  7. 21. 62. 15. 43. 47.  2. 20. 23. 30. 17. 55.  4. 19. 56.\n",
            " nan 25. 38. 36. 22. 18. 42. 37. 13.  8. 40.  3. 54.  9.  6. 64. 67. 61.\n",
            " 50. 41. 57. 11. 52. 51. 46. 60. 63. 59.  5. 79. 68. 74. 12. 53. 65. 71.\n",
            " 75. 70. 76. 78. 73. 66. 69. 72. 77.]\n",
            "VIP [False True nan]\n",
            "RoomService [   0.  109.   43. ... 1569. 8586.  745.]\n",
            "FoodCourt [   0.    9. 3576. ... 3208. 6819. 4688.]\n",
            "ShoppingMall [   0.   25.  371. ... 1085.  510. 1872.]\n",
            "Spa [   0.  549. 6715. ... 2868. 1107. 1643.]\n",
            "VRDeck [   0.   44.   49. ... 1164.  971. 3235.]\n",
            "Name ['Maham Ofracculy' 'Juanna Vines' 'Altark Susent' ... 'Fayey Connon'\n",
            " 'Celeon Hontichre' 'Propsh Hontichre']\n",
            "Transported [False  True]\n"
          ]
        }
      ]
    },
    {
      "cell_type": "markdown",
      "source": [
        "**Defining a function which changes the NULL values to median** "
      ],
      "metadata": {
        "id": "OI28E8GdeCx7"
      }
    },
    {
      "cell_type": "code",
      "source": [
        "def ReplaceMissingMedian(col,dataset):\n",
        "  median = round(dataset[col].median())\n",
        "  dataset[col].fillna(median, inplace=True)\n"
      ],
      "metadata": {
        "id": "CBPbzbm5Nlfi"
      },
      "execution_count": null,
      "outputs": []
    },
    {
      "cell_type": "markdown",
      "source": [
        "**Defining a function which changes the NULL values to mode** "
      ],
      "metadata": {
        "id": "26J0M5WNeV9z"
      }
    },
    {
      "cell_type": "code",
      "source": [
        "def ReplaceMissingMode(col,dataset):\n",
        "  mode = dataset[col].mode()\n",
        "  dataset[col].fillna(mode, inplace=True)\n"
      ],
      "metadata": {
        "id": "Ej_RaXP5Ngyv"
      },
      "execution_count": null,
      "outputs": []
    },
    {
      "cell_type": "markdown",
      "source": [
        "**Calling ReplaceMissingMedian and ReplaceMissingMode to Replace NULL Values of Data** "
      ],
      "metadata": {
        "id": "ClI8RLCqeYoK"
      }
    },
    {
      "cell_type": "code",
      "source": [
        "ReplaceMissingMode('HomePlanet',data)\n",
        "ReplaceMissingMode('CryoSleep',data)\n",
        "ReplaceMissingMode('Cabin',data)\n",
        "ReplaceMissingMode('Destination',data)\n",
        "ReplaceMissingMode('VIP',data)\n",
        "ReplaceMissingMedian('Age',data)\n",
        "ReplaceMissingMedian('RoomService',data)\n",
        "ReplaceMissingMedian('FoodCourt',data)\n",
        "ReplaceMissingMedian('ShoppingMall',data)\n",
        "ReplaceMissingMedian('Spa',data)\n",
        "ReplaceMissingMedian('VRDeck',data)\n",
        "\n",
        "ReplaceMissingMode('HomePlanet',testData)\n",
        "ReplaceMissingMode('CryoSleep',testData)\n",
        "ReplaceMissingMode('Cabin',testData)\n",
        "ReplaceMissingMode('Destination',testData)\n",
        "ReplaceMissingMode('VIP',testData)\n",
        "ReplaceMissingMedian('Age',testData)\n",
        "ReplaceMissingMedian('RoomService',testData)\n",
        "ReplaceMissingMedian('FoodCourt',testData)\n",
        "ReplaceMissingMedian('ShoppingMall',testData)\n",
        "ReplaceMissingMedian('Spa',testData)\n",
        "ReplaceMissingMedian('VRDeck',testData)\n"
      ],
      "metadata": {
        "id": "-oiVBsZdnOx2"
      },
      "execution_count": null,
      "outputs": []
    },
    {
      "cell_type": "markdown",
      "source": [
        "**Fitting the LabelEncoder** "
      ],
      "metadata": {
        "id": "JKeJpP_8er8b"
      }
    },
    {
      "cell_type": "code",
      "source": [
        "a = data['Cabin'].unique()\n",
        "b = testData['Cabin'].unique()\n",
        "c = np.concatenate((a, b))\n",
        "d = pd.Series(c).unique()\n",
        "\n",
        "homePlanetLabel = LabelEncoder().fit(data['HomePlanet'])\n",
        "cryoSleepLabel = LabelEncoder().fit(data['CryoSleep'])\n",
        "cabinLabel = LabelEncoder().fit(d)\n",
        "destinationLabel = LabelEncoder().fit(data['Destination'])\n",
        "vipLabel = LabelEncoder().fit(data['VIP'])\n",
        "transportedLabel = LabelEncoder().fit(data['Transported'])\n"
      ],
      "metadata": {
        "id": "8ZSxhEtYx5Ng"
      },
      "execution_count": null,
      "outputs": []
    },
    {
      "cell_type": "markdown",
      "source": [
        "**Replacing the data with LabelEncoder** "
      ],
      "metadata": {
        "id": "wolRVs75ewyj"
      }
    },
    {
      "cell_type": "code",
      "source": [
        "data['HomePlanet'] = homePlanetLabel.transform(data['HomePlanet'])\n",
        "data['CryoSleep'] = cryoSleepLabel.transform(data['CryoSleep'])\n",
        "data['Cabin'] = cabinLabel.transform(data['Cabin'])\n",
        "data['Destination'] = destinationLabel.transform(data['Destination'])\n",
        "data['VIP'] = vipLabel.transform(data['VIP'])\n",
        "data['Transported'] = transportedLabel.transform(data['Transported'])\n",
        "\n",
        "testData['HomePlanet'] = homePlanetLabel.transform(testData['HomePlanet'])\n",
        "testData['CryoSleep'] = cryoSleepLabel.transform(testData['CryoSleep'])\n",
        "testData['Cabin'] = cabinLabel.transform(testData['Cabin'])\n",
        "testData['Destination'] = destinationLabel.transform(testData['Destination'])\n",
        "testData['VIP'] = vipLabel.transform(testData['VIP'])\n"
      ],
      "metadata": {
        "id": "CzixBORjx7Nx"
      },
      "execution_count": null,
      "outputs": []
    },
    {
      "cell_type": "markdown",
      "source": [
        "**Checking if there are any Remaining NULL values** "
      ],
      "metadata": {
        "id": "hAfW-qCffNBn"
      }
    },
    {
      "cell_type": "code",
      "source": [
        "print(ogData.isnull().sum())\n",
        "print(ogTestData.isnull().sum())"
      ],
      "metadata": {
        "colab": {
          "base_uri": "https://localhost:8080/"
        },
        "id": "flwQyMG6OyC5",
        "outputId": "dbd55bce-6dc7-43d8-be68-24777dbff6db"
      },
      "execution_count": null,
      "outputs": [
        {
          "output_type": "stream",
          "name": "stdout",
          "text": [
            "PassengerId       0\n",
            "HomePlanet        0\n",
            "CryoSleep         0\n",
            "Cabin             0\n",
            "Destination       0\n",
            "Age               0\n",
            "VIP               0\n",
            "RoomService       0\n",
            "FoodCourt         0\n",
            "ShoppingMall      0\n",
            "Spa               0\n",
            "VRDeck            0\n",
            "Name            200\n",
            "Transported       0\n",
            "dtype: int64\n",
            "PassengerId      0\n",
            "HomePlanet       0\n",
            "CryoSleep        0\n",
            "Cabin            0\n",
            "Destination      0\n",
            "Age              0\n",
            "VIP              0\n",
            "RoomService      0\n",
            "FoodCourt        0\n",
            "ShoppingMall     0\n",
            "Spa              0\n",
            "VRDeck           0\n",
            "Name            94\n",
            "dtype: int64\n"
          ]
        }
      ]
    },
    {
      "cell_type": "markdown",
      "source": [
        "**Splitting Data into Features and Target Variable** "
      ],
      "metadata": {
        "id": "we21Qt0KfyxK"
      }
    },
    {
      "cell_type": "code",
      "source": [
        "\"\"\"['PassengerId', 'HomePlanet', 'CryoSleep', 'Cabin',\n",
        "    'Destination', 'Age', 'VIP', 'RoomService', 'FoodCourt',\n",
        "    'ShoppingMall', 'Spa', 'VRDeck', 'Name', 'Transported']\"\"\"\n",
        "\n",
        "features = ['HomePlanet','CryoSleep', 'Cabin','Destination','Age','VIP',\n",
        "            'RoomService','FoodCourt','ShoppingMall','Spa','VRDeck']\n",
        "target = ['Transported']\n",
        "\n",
        "filterData = data[features + target]\n",
        "\n",
        "X = filterData.iloc[:,:-1]\n",
        "Y = filterData.iloc[:,-1]\n",
        "testFileData = testData[features]\n",
        "\n",
        "X.head()\n"
      ],
      "metadata": {
        "colab": {
          "base_uri": "https://localhost:8080/",
          "height": 206
        },
        "id": "I3Qn1BfdNWcD",
        "outputId": "4bcba398-a926-4a5e-a6aa-41fc11ce7c79"
      },
      "execution_count": null,
      "outputs": [
        {
          "output_type": "execute_result",
          "data": {
            "text/plain": [
              "   HomePlanet  CryoSleep  Cabin  Destination   Age  VIP  RoomService  \\\n",
              "0           1          0    208            2  39.0    0          0.0   \n",
              "1           0          0   3241            2  24.0    0        109.0   \n",
              "2           1          0      1            2  58.0    1         43.0   \n",
              "3           1          0      1            2  33.0    0          0.0   \n",
              "4           0          0   3243            2  16.0    0        303.0   \n",
              "\n",
              "   FoodCourt  ShoppingMall     Spa  VRDeck  \n",
              "0        0.0           0.0     0.0     0.0  \n",
              "1        9.0          25.0   549.0    44.0  \n",
              "2     3576.0           0.0  6715.0    49.0  \n",
              "3     1283.0         371.0  3329.0   193.0  \n",
              "4       70.0         151.0   565.0     2.0  "
            ],
            "text/html": [
              "\n",
              "  <div id=\"df-20b53210-0ee0-449d-a21b-22cf134f6827\">\n",
              "    <div class=\"colab-df-container\">\n",
              "      <div>\n",
              "<style scoped>\n",
              "    .dataframe tbody tr th:only-of-type {\n",
              "        vertical-align: middle;\n",
              "    }\n",
              "\n",
              "    .dataframe tbody tr th {\n",
              "        vertical-align: top;\n",
              "    }\n",
              "\n",
              "    .dataframe thead th {\n",
              "        text-align: right;\n",
              "    }\n",
              "</style>\n",
              "<table border=\"1\" class=\"dataframe\">\n",
              "  <thead>\n",
              "    <tr style=\"text-align: right;\">\n",
              "      <th></th>\n",
              "      <th>HomePlanet</th>\n",
              "      <th>CryoSleep</th>\n",
              "      <th>Cabin</th>\n",
              "      <th>Destination</th>\n",
              "      <th>Age</th>\n",
              "      <th>VIP</th>\n",
              "      <th>RoomService</th>\n",
              "      <th>FoodCourt</th>\n",
              "      <th>ShoppingMall</th>\n",
              "      <th>Spa</th>\n",
              "      <th>VRDeck</th>\n",
              "    </tr>\n",
              "  </thead>\n",
              "  <tbody>\n",
              "    <tr>\n",
              "      <th>0</th>\n",
              "      <td>1</td>\n",
              "      <td>0</td>\n",
              "      <td>208</td>\n",
              "      <td>2</td>\n",
              "      <td>39.0</td>\n",
              "      <td>0</td>\n",
              "      <td>0.0</td>\n",
              "      <td>0.0</td>\n",
              "      <td>0.0</td>\n",
              "      <td>0.0</td>\n",
              "      <td>0.0</td>\n",
              "    </tr>\n",
              "    <tr>\n",
              "      <th>1</th>\n",
              "      <td>0</td>\n",
              "      <td>0</td>\n",
              "      <td>3241</td>\n",
              "      <td>2</td>\n",
              "      <td>24.0</td>\n",
              "      <td>0</td>\n",
              "      <td>109.0</td>\n",
              "      <td>9.0</td>\n",
              "      <td>25.0</td>\n",
              "      <td>549.0</td>\n",
              "      <td>44.0</td>\n",
              "    </tr>\n",
              "    <tr>\n",
              "      <th>2</th>\n",
              "      <td>1</td>\n",
              "      <td>0</td>\n",
              "      <td>1</td>\n",
              "      <td>2</td>\n",
              "      <td>58.0</td>\n",
              "      <td>1</td>\n",
              "      <td>43.0</td>\n",
              "      <td>3576.0</td>\n",
              "      <td>0.0</td>\n",
              "      <td>6715.0</td>\n",
              "      <td>49.0</td>\n",
              "    </tr>\n",
              "    <tr>\n",
              "      <th>3</th>\n",
              "      <td>1</td>\n",
              "      <td>0</td>\n",
              "      <td>1</td>\n",
              "      <td>2</td>\n",
              "      <td>33.0</td>\n",
              "      <td>0</td>\n",
              "      <td>0.0</td>\n",
              "      <td>1283.0</td>\n",
              "      <td>371.0</td>\n",
              "      <td>3329.0</td>\n",
              "      <td>193.0</td>\n",
              "    </tr>\n",
              "    <tr>\n",
              "      <th>4</th>\n",
              "      <td>0</td>\n",
              "      <td>0</td>\n",
              "      <td>3243</td>\n",
              "      <td>2</td>\n",
              "      <td>16.0</td>\n",
              "      <td>0</td>\n",
              "      <td>303.0</td>\n",
              "      <td>70.0</td>\n",
              "      <td>151.0</td>\n",
              "      <td>565.0</td>\n",
              "      <td>2.0</td>\n",
              "    </tr>\n",
              "  </tbody>\n",
              "</table>\n",
              "</div>\n",
              "      <button class=\"colab-df-convert\" onclick=\"convertToInteractive('df-20b53210-0ee0-449d-a21b-22cf134f6827')\"\n",
              "              title=\"Convert this dataframe to an interactive table.\"\n",
              "              style=\"display:none;\">\n",
              "        \n",
              "  <svg xmlns=\"http://www.w3.org/2000/svg\" height=\"24px\"viewBox=\"0 0 24 24\"\n",
              "       width=\"24px\">\n",
              "    <path d=\"M0 0h24v24H0V0z\" fill=\"none\"/>\n",
              "    <path d=\"M18.56 5.44l.94 2.06.94-2.06 2.06-.94-2.06-.94-.94-2.06-.94 2.06-2.06.94zm-11 1L8.5 8.5l.94-2.06 2.06-.94-2.06-.94L8.5 2.5l-.94 2.06-2.06.94zm10 10l.94 2.06.94-2.06 2.06-.94-2.06-.94-.94-2.06-.94 2.06-2.06.94z\"/><path d=\"M17.41 7.96l-1.37-1.37c-.4-.4-.92-.59-1.43-.59-.52 0-1.04.2-1.43.59L10.3 9.45l-7.72 7.72c-.78.78-.78 2.05 0 2.83L4 21.41c.39.39.9.59 1.41.59.51 0 1.02-.2 1.41-.59l7.78-7.78 2.81-2.81c.8-.78.8-2.07 0-2.86zM5.41 20L4 18.59l7.72-7.72 1.47 1.35L5.41 20z\"/>\n",
              "  </svg>\n",
              "      </button>\n",
              "      \n",
              "  <style>\n",
              "    .colab-df-container {\n",
              "      display:flex;\n",
              "      flex-wrap:wrap;\n",
              "      gap: 12px;\n",
              "    }\n",
              "\n",
              "    .colab-df-convert {\n",
              "      background-color: #E8F0FE;\n",
              "      border: none;\n",
              "      border-radius: 50%;\n",
              "      cursor: pointer;\n",
              "      display: none;\n",
              "      fill: #1967D2;\n",
              "      height: 32px;\n",
              "      padding: 0 0 0 0;\n",
              "      width: 32px;\n",
              "    }\n",
              "\n",
              "    .colab-df-convert:hover {\n",
              "      background-color: #E2EBFA;\n",
              "      box-shadow: 0px 1px 2px rgba(60, 64, 67, 0.3), 0px 1px 3px 1px rgba(60, 64, 67, 0.15);\n",
              "      fill: #174EA6;\n",
              "    }\n",
              "\n",
              "    [theme=dark] .colab-df-convert {\n",
              "      background-color: #3B4455;\n",
              "      fill: #D2E3FC;\n",
              "    }\n",
              "\n",
              "    [theme=dark] .colab-df-convert:hover {\n",
              "      background-color: #434B5C;\n",
              "      box-shadow: 0px 1px 3px 1px rgba(0, 0, 0, 0.15);\n",
              "      filter: drop-shadow(0px 1px 2px rgba(0, 0, 0, 0.3));\n",
              "      fill: #FFFFFF;\n",
              "    }\n",
              "  </style>\n",
              "\n",
              "      <script>\n",
              "        const buttonEl =\n",
              "          document.querySelector('#df-20b53210-0ee0-449d-a21b-22cf134f6827 button.colab-df-convert');\n",
              "        buttonEl.style.display =\n",
              "          google.colab.kernel.accessAllowed ? 'block' : 'none';\n",
              "\n",
              "        async function convertToInteractive(key) {\n",
              "          const element = document.querySelector('#df-20b53210-0ee0-449d-a21b-22cf134f6827');\n",
              "          const dataTable =\n",
              "            await google.colab.kernel.invokeFunction('convertToInteractive',\n",
              "                                                     [key], {});\n",
              "          if (!dataTable) return;\n",
              "\n",
              "          const docLinkHtml = 'Like what you see? Visit the ' +\n",
              "            '<a target=\"_blank\" href=https://colab.research.google.com/notebooks/data_table.ipynb>data table notebook</a>'\n",
              "            + ' to learn more about interactive tables.';\n",
              "          element.innerHTML = '';\n",
              "          dataTable['output_type'] = 'display_data';\n",
              "          await google.colab.output.renderOutput(dataTable, element);\n",
              "          const docLink = document.createElement('div');\n",
              "          docLink.innerHTML = docLinkHtml;\n",
              "          element.appendChild(docLink);\n",
              "        }\n",
              "      </script>\n",
              "    </div>\n",
              "  </div>\n",
              "  "
            ]
          },
          "metadata": {},
          "execution_count": 105
        }
      ]
    },
    {
      "cell_type": "markdown",
      "source": [
        "**Splitting Train Data into Train and Test Variables** "
      ],
      "metadata": {
        "id": "weoMXwCkgW_6"
      }
    },
    {
      "cell_type": "code",
      "source": [
        "train_X,val_X,train_Y,val_Y = train_test_split(X,Y,test_size=0.2,random_state=0)\n",
        "\n",
        "print(\"Training Data: \", train_Y.count(),end=\"\\n\\n\")\n",
        "print(\"Validation Data: \", val_Y.count(),end=\"\\n\\n\")\n",
        "\n",
        "train_X.head()"
      ],
      "metadata": {
        "colab": {
          "base_uri": "https://localhost:8080/",
          "height": 279
        },
        "id": "n-J_xJlH_zzc",
        "outputId": "2c84b44a-685c-4d8e-d38a-e8f1e35abfda"
      },
      "execution_count": null,
      "outputs": [
        {
          "output_type": "stream",
          "name": "stdout",
          "text": [
            "Training Data:  6954\n",
            "\n",
            "Validation Data:  1739\n",
            "\n"
          ]
        },
        {
          "output_type": "execute_result",
          "data": {
            "text/plain": [
              "      HomePlanet  CryoSleep  Cabin  Destination   Age  VIP  RoomService  \\\n",
              "4278           1          0   1006            0  54.0    0          0.0   \n",
              "5971           0          0   3921            2  20.0    0          0.0   \n",
              "464            2          0   6657            2  43.0    0       1821.0   \n",
              "4475           0          0   6647            2  24.0    0        185.0   \n",
              "8469           1          1   1348            0  25.0    0          0.0   \n",
              "\n",
              "      FoodCourt  ShoppingMall      Spa  VRDeck  \n",
              "4278      559.0           0.0  15238.0  2799.0  \n",
              "5971       20.0           1.0    696.0     0.0  \n",
              "464         0.0          47.0     29.0     0.0  \n",
              "4475        0.0         476.0   1810.0    53.0  \n",
              "8469        0.0           0.0      0.0     0.0  "
            ],
            "text/html": [
              "\n",
              "  <div id=\"df-178ea353-5e3e-4d3b-bc7f-6bd25e14fa5d\">\n",
              "    <div class=\"colab-df-container\">\n",
              "      <div>\n",
              "<style scoped>\n",
              "    .dataframe tbody tr th:only-of-type {\n",
              "        vertical-align: middle;\n",
              "    }\n",
              "\n",
              "    .dataframe tbody tr th {\n",
              "        vertical-align: top;\n",
              "    }\n",
              "\n",
              "    .dataframe thead th {\n",
              "        text-align: right;\n",
              "    }\n",
              "</style>\n",
              "<table border=\"1\" class=\"dataframe\">\n",
              "  <thead>\n",
              "    <tr style=\"text-align: right;\">\n",
              "      <th></th>\n",
              "      <th>HomePlanet</th>\n",
              "      <th>CryoSleep</th>\n",
              "      <th>Cabin</th>\n",
              "      <th>Destination</th>\n",
              "      <th>Age</th>\n",
              "      <th>VIP</th>\n",
              "      <th>RoomService</th>\n",
              "      <th>FoodCourt</th>\n",
              "      <th>ShoppingMall</th>\n",
              "      <th>Spa</th>\n",
              "      <th>VRDeck</th>\n",
              "    </tr>\n",
              "  </thead>\n",
              "  <tbody>\n",
              "    <tr>\n",
              "      <th>4278</th>\n",
              "      <td>1</td>\n",
              "      <td>0</td>\n",
              "      <td>1006</td>\n",
              "      <td>0</td>\n",
              "      <td>54.0</td>\n",
              "      <td>0</td>\n",
              "      <td>0.0</td>\n",
              "      <td>559.0</td>\n",
              "      <td>0.0</td>\n",
              "      <td>15238.0</td>\n",
              "      <td>2799.0</td>\n",
              "    </tr>\n",
              "    <tr>\n",
              "      <th>5971</th>\n",
              "      <td>0</td>\n",
              "      <td>0</td>\n",
              "      <td>3921</td>\n",
              "      <td>2</td>\n",
              "      <td>20.0</td>\n",
              "      <td>0</td>\n",
              "      <td>0.0</td>\n",
              "      <td>20.0</td>\n",
              "      <td>1.0</td>\n",
              "      <td>696.0</td>\n",
              "      <td>0.0</td>\n",
              "    </tr>\n",
              "    <tr>\n",
              "      <th>464</th>\n",
              "      <td>2</td>\n",
              "      <td>0</td>\n",
              "      <td>6657</td>\n",
              "      <td>2</td>\n",
              "      <td>43.0</td>\n",
              "      <td>0</td>\n",
              "      <td>1821.0</td>\n",
              "      <td>0.0</td>\n",
              "      <td>47.0</td>\n",
              "      <td>29.0</td>\n",
              "      <td>0.0</td>\n",
              "    </tr>\n",
              "    <tr>\n",
              "      <th>4475</th>\n",
              "      <td>0</td>\n",
              "      <td>0</td>\n",
              "      <td>6647</td>\n",
              "      <td>2</td>\n",
              "      <td>24.0</td>\n",
              "      <td>0</td>\n",
              "      <td>185.0</td>\n",
              "      <td>0.0</td>\n",
              "      <td>476.0</td>\n",
              "      <td>1810.0</td>\n",
              "      <td>53.0</td>\n",
              "    </tr>\n",
              "    <tr>\n",
              "      <th>8469</th>\n",
              "      <td>1</td>\n",
              "      <td>1</td>\n",
              "      <td>1348</td>\n",
              "      <td>0</td>\n",
              "      <td>25.0</td>\n",
              "      <td>0</td>\n",
              "      <td>0.0</td>\n",
              "      <td>0.0</td>\n",
              "      <td>0.0</td>\n",
              "      <td>0.0</td>\n",
              "      <td>0.0</td>\n",
              "    </tr>\n",
              "  </tbody>\n",
              "</table>\n",
              "</div>\n",
              "      <button class=\"colab-df-convert\" onclick=\"convertToInteractive('df-178ea353-5e3e-4d3b-bc7f-6bd25e14fa5d')\"\n",
              "              title=\"Convert this dataframe to an interactive table.\"\n",
              "              style=\"display:none;\">\n",
              "        \n",
              "  <svg xmlns=\"http://www.w3.org/2000/svg\" height=\"24px\"viewBox=\"0 0 24 24\"\n",
              "       width=\"24px\">\n",
              "    <path d=\"M0 0h24v24H0V0z\" fill=\"none\"/>\n",
              "    <path d=\"M18.56 5.44l.94 2.06.94-2.06 2.06-.94-2.06-.94-.94-2.06-.94 2.06-2.06.94zm-11 1L8.5 8.5l.94-2.06 2.06-.94-2.06-.94L8.5 2.5l-.94 2.06-2.06.94zm10 10l.94 2.06.94-2.06 2.06-.94-2.06-.94-.94-2.06-.94 2.06-2.06.94z\"/><path d=\"M17.41 7.96l-1.37-1.37c-.4-.4-.92-.59-1.43-.59-.52 0-1.04.2-1.43.59L10.3 9.45l-7.72 7.72c-.78.78-.78 2.05 0 2.83L4 21.41c.39.39.9.59 1.41.59.51 0 1.02-.2 1.41-.59l7.78-7.78 2.81-2.81c.8-.78.8-2.07 0-2.86zM5.41 20L4 18.59l7.72-7.72 1.47 1.35L5.41 20z\"/>\n",
              "  </svg>\n",
              "      </button>\n",
              "      \n",
              "  <style>\n",
              "    .colab-df-container {\n",
              "      display:flex;\n",
              "      flex-wrap:wrap;\n",
              "      gap: 12px;\n",
              "    }\n",
              "\n",
              "    .colab-df-convert {\n",
              "      background-color: #E8F0FE;\n",
              "      border: none;\n",
              "      border-radius: 50%;\n",
              "      cursor: pointer;\n",
              "      display: none;\n",
              "      fill: #1967D2;\n",
              "      height: 32px;\n",
              "      padding: 0 0 0 0;\n",
              "      width: 32px;\n",
              "    }\n",
              "\n",
              "    .colab-df-convert:hover {\n",
              "      background-color: #E2EBFA;\n",
              "      box-shadow: 0px 1px 2px rgba(60, 64, 67, 0.3), 0px 1px 3px 1px rgba(60, 64, 67, 0.15);\n",
              "      fill: #174EA6;\n",
              "    }\n",
              "\n",
              "    [theme=dark] .colab-df-convert {\n",
              "      background-color: #3B4455;\n",
              "      fill: #D2E3FC;\n",
              "    }\n",
              "\n",
              "    [theme=dark] .colab-df-convert:hover {\n",
              "      background-color: #434B5C;\n",
              "      box-shadow: 0px 1px 3px 1px rgba(0, 0, 0, 0.15);\n",
              "      filter: drop-shadow(0px 1px 2px rgba(0, 0, 0, 0.3));\n",
              "      fill: #FFFFFF;\n",
              "    }\n",
              "  </style>\n",
              "\n",
              "      <script>\n",
              "        const buttonEl =\n",
              "          document.querySelector('#df-178ea353-5e3e-4d3b-bc7f-6bd25e14fa5d button.colab-df-convert');\n",
              "        buttonEl.style.display =\n",
              "          google.colab.kernel.accessAllowed ? 'block' : 'none';\n",
              "\n",
              "        async function convertToInteractive(key) {\n",
              "          const element = document.querySelector('#df-178ea353-5e3e-4d3b-bc7f-6bd25e14fa5d');\n",
              "          const dataTable =\n",
              "            await google.colab.kernel.invokeFunction('convertToInteractive',\n",
              "                                                     [key], {});\n",
              "          if (!dataTable) return;\n",
              "\n",
              "          const docLinkHtml = 'Like what you see? Visit the ' +\n",
              "            '<a target=\"_blank\" href=https://colab.research.google.com/notebooks/data_table.ipynb>data table notebook</a>'\n",
              "            + ' to learn more about interactive tables.';\n",
              "          element.innerHTML = '';\n",
              "          dataTable['output_type'] = 'display_data';\n",
              "          await google.colab.output.renderOutput(dataTable, element);\n",
              "          const docLink = document.createElement('div');\n",
              "          docLink.innerHTML = docLinkHtml;\n",
              "          element.appendChild(docLink);\n",
              "        }\n",
              "      </script>\n",
              "    </div>\n",
              "  </div>\n",
              "  "
            ]
          },
          "metadata": {},
          "execution_count": 106
        }
      ]
    },
    {
      "cell_type": "markdown",
      "source": [
        "**Predicting target variable using RandomForestClassifier Algorithm** "
      ],
      "metadata": {
        "id": "wJOhrkqPghLb"
      }
    },
    {
      "cell_type": "code",
      "execution_count": null,
      "metadata": {
        "colab": {
          "base_uri": "https://localhost:8080/"
        },
        "id": "ppR3nrDjkq11",
        "outputId": "148b74a7-3540-49b4-e523-e2baf76001ec"
      },
      "outputs": [
        {
          "output_type": "stream",
          "name": "stdout",
          "text": [
            "[[701 162]\n",
            " [203 673]]\n",
            "              precision    recall  f1-score   support\n",
            "\n",
            "           0       0.78      0.81      0.79       863\n",
            "           1       0.81      0.77      0.79       876\n",
            "\n",
            "    accuracy                           0.79      1739\n",
            "   macro avg       0.79      0.79      0.79      1739\n",
            "weighted avg       0.79      0.79      0.79      1739\n",
            "\n"
          ]
        }
      ],
      "source": [
        "forestModel = RandomForestClassifier(n_estimators=256, random_state=0)\n",
        "forestModel.fit(train_X,train_Y)\n",
        "\n",
        "forestPredict = forestModel.predict(val_X)\n",
        "\n",
        "print(confusion_matrix(val_Y,forestPredict))\n",
        "print(classification_report(val_Y,forestPredict))"
      ]
    },
    {
      "cell_type": "markdown",
      "source": [
        "**Predicting target variable using DecisionTreeClassifier Algorithm** "
      ],
      "metadata": {
        "id": "QKlitwDOgrG6"
      }
    },
    {
      "cell_type": "code",
      "execution_count": null,
      "metadata": {
        "colab": {
          "base_uri": "https://localhost:8080/"
        },
        "id": "6CJCBxv0ybkv",
        "outputId": "afcf5bff-db3f-484e-f912-4ca75577a5e9"
      },
      "outputs": [
        {
          "output_type": "stream",
          "name": "stdout",
          "text": [
            "[[601 262]\n",
            " [222 654]]\n",
            "              precision    recall  f1-score   support\n",
            "\n",
            "           0       0.73      0.70      0.71       863\n",
            "           1       0.71      0.75      0.73       876\n",
            "\n",
            "    accuracy                           0.72      1739\n",
            "   macro avg       0.72      0.72      0.72      1739\n",
            "weighted avg       0.72      0.72      0.72      1739\n",
            "\n"
          ]
        }
      ],
      "source": [
        "treeModel = DecisionTreeClassifier(random_state=0)\n",
        "treeModel.fit(train_X,train_Y)\n",
        "\n",
        "treePredict = treeModel.predict(val_X)\n",
        "\n",
        "print(confusion_matrix(val_Y,treePredict))\n",
        "print(classification_report(val_Y,treePredict))"
      ]
    },
    {
      "cell_type": "markdown",
      "source": [
        "**Predicting target variable using KNeighborsClassifier Algorithm** "
      ],
      "metadata": {
        "id": "rzhT6COHgrna"
      }
    },
    {
      "cell_type": "code",
      "source": [
        "knn = KNeighborsClassifier(n_neighbors=7)\n",
        "knn.fit(train_X,train_Y)\n",
        "\n",
        "knnPredict = knn.predict(val_X)\n",
        "\n",
        "print(confusion_matrix(val_Y,knnPredict))\n",
        "print(classification_report(val_Y,knnPredict))"
      ],
      "metadata": {
        "colab": {
          "base_uri": "https://localhost:8080/"
        },
        "id": "zq5ZDHbXAcnL",
        "outputId": "7cc4aad5-edbd-443b-b8b1-4096a51c7034"
      },
      "execution_count": null,
      "outputs": [
        {
          "output_type": "stream",
          "name": "stdout",
          "text": [
            "[[633 230]\n",
            " [176 700]]\n",
            "              precision    recall  f1-score   support\n",
            "\n",
            "           0       0.78      0.73      0.76       863\n",
            "           1       0.75      0.80      0.78       876\n",
            "\n",
            "    accuracy                           0.77      1739\n",
            "   macro avg       0.77      0.77      0.77      1739\n",
            "weighted avg       0.77      0.77      0.77      1739\n",
            "\n"
          ]
        }
      ]
    },
    {
      "cell_type": "markdown",
      "source": [
        "**Predicting target variable using KMeans Algorithm** "
      ],
      "metadata": {
        "id": "L1Y8-2NZgr5a"
      }
    },
    {
      "cell_type": "code",
      "source": [
        "kmeans = KMeans(n_clusters=2, random_state=0)\n",
        "kmeans.fit(train_X)\n",
        "\n",
        "kmeansPredict = kmeans.predict(val_X)\n",
        "\n",
        "print(confusion_matrix(val_Y,kmeansPredict))\n",
        "print(classification_report(val_Y,kmeansPredict))"
      ],
      "metadata": {
        "colab": {
          "base_uri": "https://localhost:8080/"
        },
        "id": "yFGPNSYvAv6M",
        "outputId": "87e193c7-ff6b-4dbd-8bb3-d9e2c591ad89"
      },
      "execution_count": null,
      "outputs": [
        {
          "output_type": "stream",
          "name": "stdout",
          "text": [
            "[[456 407]\n",
            " [435 441]]\n",
            "              precision    recall  f1-score   support\n",
            "\n",
            "           0       0.51      0.53      0.52       863\n",
            "           1       0.52      0.50      0.51       876\n",
            "\n",
            "    accuracy                           0.52      1739\n",
            "   macro avg       0.52      0.52      0.52      1739\n",
            "weighted avg       0.52      0.52      0.52      1739\n",
            "\n"
          ]
        }
      ]
    },
    {
      "cell_type": "markdown",
      "source": [
        "**Predicting target variable using LogisticRegression Algorithm** "
      ],
      "metadata": {
        "id": "V2DAYJUlgsMK"
      }
    },
    {
      "cell_type": "code",
      "source": [
        "logModel = LogisticRegression(random_state=0,max_iter=512)\n",
        "logModel.fit(train_X,train_Y)\n",
        "\n",
        "logPredict = logModel.predict(val_X)\n",
        "\n",
        "print(confusion_matrix(val_Y,logPredict))\n",
        "print(classification_report(val_Y,logPredict))"
      ],
      "metadata": {
        "colab": {
          "base_uri": "https://localhost:8080/"
        },
        "id": "9qzzdeB9_uTy",
        "outputId": "cb6010fd-61a0-48de-9086-c3d4a86fd5a4"
      },
      "execution_count": null,
      "outputs": [
        {
          "output_type": "stream",
          "name": "stdout",
          "text": [
            "[[636 227]\n",
            " [167 709]]\n",
            "              precision    recall  f1-score   support\n",
            "\n",
            "           0       0.79      0.74      0.76       863\n",
            "           1       0.76      0.81      0.78       876\n",
            "\n",
            "    accuracy                           0.77      1739\n",
            "   macro avg       0.77      0.77      0.77      1739\n",
            "weighted avg       0.77      0.77      0.77      1739\n",
            "\n"
          ]
        }
      ]
    },
    {
      "cell_type": "markdown",
      "source": [
        "**Predicting target variable using VotingClassifier Algorithm** "
      ],
      "metadata": {
        "id": "aSlHpWZfgsiZ"
      }
    },
    {
      "cell_type": "code",
      "source": [
        "voteModel = VotingClassifier(estimators=[('forest', forestModel),('tree', treeModel), ('log', logModel)])\n",
        "voteModel.fit(train_X,train_Y)\n",
        "\n",
        "votePredict = voteModel.predict(val_X)\n",
        "\n",
        "print(confusion_matrix(val_Y,votePredict))\n",
        "print(classification_report(val_Y,votePredict))"
      ],
      "metadata": {
        "colab": {
          "base_uri": "https://localhost:8080/"
        },
        "id": "XIfNstR-gZvB",
        "outputId": "2d87d816-37eb-41bc-81c7-9edcf8645b9c"
      },
      "execution_count": null,
      "outputs": [
        {
          "output_type": "stream",
          "name": "stdout",
          "text": [
            "[[674 189]\n",
            " [190 686]]\n",
            "              precision    recall  f1-score   support\n",
            "\n",
            "           0       0.78      0.78      0.78       863\n",
            "           1       0.78      0.78      0.78       876\n",
            "\n",
            "    accuracy                           0.78      1739\n",
            "   macro avg       0.78      0.78      0.78      1739\n",
            "weighted avg       0.78      0.78      0.78      1739\n",
            "\n"
          ]
        }
      ]
    },
    {
      "cell_type": "markdown",
      "source": [
        "#Submission"
      ],
      "metadata": {
        "id": "VDEyOOlQjYPD"
      }
    },
    {
      "cell_type": "markdown",
      "source": [
        "**As RandomForestClassifier Algorithm performed the better than other algorithm, we will retrain the model with the whole Train Dataset** "
      ],
      "metadata": {
        "id": "Yyx1oOL0hB4u"
      }
    },
    {
      "cell_type": "code",
      "execution_count": null,
      "metadata": {
        "colab": {
          "base_uri": "https://localhost:8080/"
        },
        "outputId": "cdddc602-91af-4ba6-f328-c2bdd26c5e6e",
        "id": "KAs-61K-ucR3"
      },
      "outputs": [
        {
          "output_type": "execute_result",
          "data": {
            "text/plain": [
              "VotingClassifier(estimators=[('forest',\n",
              "                              RandomForestClassifier(n_estimators=256,\n",
              "                                                     random_state=0)),\n",
              "                             ('tree', DecisionTreeClassifier(random_state=0)),\n",
              "                             ('log',\n",
              "                              LogisticRegression(max_iter=512,\n",
              "                                                 random_state=0))])"
            ]
          },
          "metadata": {},
          "execution_count": 131
        }
      ],
      "source": [
        "model =  RandomForestClassifier(n_estimators=256, random_state=0)\n",
        "model.fit(X,Y)"
      ]
    },
    {
      "cell_type": "markdown",
      "source": [
        "**Predicting the Values of Test Data using the previously Trained Dataset and Storing it in a DataFrame** "
      ],
      "metadata": {
        "id": "o0nQqUT6hRPd"
      }
    },
    {
      "cell_type": "code",
      "source": [
        "passengerID = ogTestData['PassengerId']\n",
        "predictedValue = model.predict(testFileData)\n",
        "\n",
        "ans = transportedLabel.inverse_transform(predictedValue)\n",
        "\n",
        "output = pd.DataFrame()\n",
        "output['PassengerId'] = passengerID\n",
        "output['Transported'] = ans\n",
        "\n",
        "output"
      ],
      "metadata": {
        "colab": {
          "base_uri": "https://localhost:8080/",
          "height": 424
        },
        "id": "cRhVhHU6ut05",
        "outputId": "b758d9e2-efd1-4b99-afc7-973285a43cdd"
      },
      "execution_count": null,
      "outputs": [
        {
          "output_type": "execute_result",
          "data": {
            "text/plain": [
              "     PassengerId  Transported\n",
              "0        0013_01         True\n",
              "1        0018_01        False\n",
              "2        0019_01         True\n",
              "3        0021_01         True\n",
              "4        0023_01        False\n",
              "...          ...          ...\n",
              "4272     9266_02         True\n",
              "4273     9269_01        False\n",
              "4274     9271_01         True\n",
              "4275     9273_01         True\n",
              "4276     9277_01        False\n",
              "\n",
              "[4277 rows x 2 columns]"
            ],
            "text/html": [
              "\n",
              "  <div id=\"df-8002b840-ef70-48cd-85be-321fa072d1b3\">\n",
              "    <div class=\"colab-df-container\">\n",
              "      <div>\n",
              "<style scoped>\n",
              "    .dataframe tbody tr th:only-of-type {\n",
              "        vertical-align: middle;\n",
              "    }\n",
              "\n",
              "    .dataframe tbody tr th {\n",
              "        vertical-align: top;\n",
              "    }\n",
              "\n",
              "    .dataframe thead th {\n",
              "        text-align: right;\n",
              "    }\n",
              "</style>\n",
              "<table border=\"1\" class=\"dataframe\">\n",
              "  <thead>\n",
              "    <tr style=\"text-align: right;\">\n",
              "      <th></th>\n",
              "      <th>PassengerId</th>\n",
              "      <th>Transported</th>\n",
              "    </tr>\n",
              "  </thead>\n",
              "  <tbody>\n",
              "    <tr>\n",
              "      <th>0</th>\n",
              "      <td>0013_01</td>\n",
              "      <td>True</td>\n",
              "    </tr>\n",
              "    <tr>\n",
              "      <th>1</th>\n",
              "      <td>0018_01</td>\n",
              "      <td>False</td>\n",
              "    </tr>\n",
              "    <tr>\n",
              "      <th>2</th>\n",
              "      <td>0019_01</td>\n",
              "      <td>True</td>\n",
              "    </tr>\n",
              "    <tr>\n",
              "      <th>3</th>\n",
              "      <td>0021_01</td>\n",
              "      <td>True</td>\n",
              "    </tr>\n",
              "    <tr>\n",
              "      <th>4</th>\n",
              "      <td>0023_01</td>\n",
              "      <td>False</td>\n",
              "    </tr>\n",
              "    <tr>\n",
              "      <th>...</th>\n",
              "      <td>...</td>\n",
              "      <td>...</td>\n",
              "    </tr>\n",
              "    <tr>\n",
              "      <th>4272</th>\n",
              "      <td>9266_02</td>\n",
              "      <td>True</td>\n",
              "    </tr>\n",
              "    <tr>\n",
              "      <th>4273</th>\n",
              "      <td>9269_01</td>\n",
              "      <td>False</td>\n",
              "    </tr>\n",
              "    <tr>\n",
              "      <th>4274</th>\n",
              "      <td>9271_01</td>\n",
              "      <td>True</td>\n",
              "    </tr>\n",
              "    <tr>\n",
              "      <th>4275</th>\n",
              "      <td>9273_01</td>\n",
              "      <td>True</td>\n",
              "    </tr>\n",
              "    <tr>\n",
              "      <th>4276</th>\n",
              "      <td>9277_01</td>\n",
              "      <td>False</td>\n",
              "    </tr>\n",
              "  </tbody>\n",
              "</table>\n",
              "<p>4277 rows × 2 columns</p>\n",
              "</div>\n",
              "      <button class=\"colab-df-convert\" onclick=\"convertToInteractive('df-8002b840-ef70-48cd-85be-321fa072d1b3')\"\n",
              "              title=\"Convert this dataframe to an interactive table.\"\n",
              "              style=\"display:none;\">\n",
              "        \n",
              "  <svg xmlns=\"http://www.w3.org/2000/svg\" height=\"24px\"viewBox=\"0 0 24 24\"\n",
              "       width=\"24px\">\n",
              "    <path d=\"M0 0h24v24H0V0z\" fill=\"none\"/>\n",
              "    <path d=\"M18.56 5.44l.94 2.06.94-2.06 2.06-.94-2.06-.94-.94-2.06-.94 2.06-2.06.94zm-11 1L8.5 8.5l.94-2.06 2.06-.94-2.06-.94L8.5 2.5l-.94 2.06-2.06.94zm10 10l.94 2.06.94-2.06 2.06-.94-2.06-.94-.94-2.06-.94 2.06-2.06.94z\"/><path d=\"M17.41 7.96l-1.37-1.37c-.4-.4-.92-.59-1.43-.59-.52 0-1.04.2-1.43.59L10.3 9.45l-7.72 7.72c-.78.78-.78 2.05 0 2.83L4 21.41c.39.39.9.59 1.41.59.51 0 1.02-.2 1.41-.59l7.78-7.78 2.81-2.81c.8-.78.8-2.07 0-2.86zM5.41 20L4 18.59l7.72-7.72 1.47 1.35L5.41 20z\"/>\n",
              "  </svg>\n",
              "      </button>\n",
              "      \n",
              "  <style>\n",
              "    .colab-df-container {\n",
              "      display:flex;\n",
              "      flex-wrap:wrap;\n",
              "      gap: 12px;\n",
              "    }\n",
              "\n",
              "    .colab-df-convert {\n",
              "      background-color: #E8F0FE;\n",
              "      border: none;\n",
              "      border-radius: 50%;\n",
              "      cursor: pointer;\n",
              "      display: none;\n",
              "      fill: #1967D2;\n",
              "      height: 32px;\n",
              "      padding: 0 0 0 0;\n",
              "      width: 32px;\n",
              "    }\n",
              "\n",
              "    .colab-df-convert:hover {\n",
              "      background-color: #E2EBFA;\n",
              "      box-shadow: 0px 1px 2px rgba(60, 64, 67, 0.3), 0px 1px 3px 1px rgba(60, 64, 67, 0.15);\n",
              "      fill: #174EA6;\n",
              "    }\n",
              "\n",
              "    [theme=dark] .colab-df-convert {\n",
              "      background-color: #3B4455;\n",
              "      fill: #D2E3FC;\n",
              "    }\n",
              "\n",
              "    [theme=dark] .colab-df-convert:hover {\n",
              "      background-color: #434B5C;\n",
              "      box-shadow: 0px 1px 3px 1px rgba(0, 0, 0, 0.15);\n",
              "      filter: drop-shadow(0px 1px 2px rgba(0, 0, 0, 0.3));\n",
              "      fill: #FFFFFF;\n",
              "    }\n",
              "  </style>\n",
              "\n",
              "      <script>\n",
              "        const buttonEl =\n",
              "          document.querySelector('#df-8002b840-ef70-48cd-85be-321fa072d1b3 button.colab-df-convert');\n",
              "        buttonEl.style.display =\n",
              "          google.colab.kernel.accessAllowed ? 'block' : 'none';\n",
              "\n",
              "        async function convertToInteractive(key) {\n",
              "          const element = document.querySelector('#df-8002b840-ef70-48cd-85be-321fa072d1b3');\n",
              "          const dataTable =\n",
              "            await google.colab.kernel.invokeFunction('convertToInteractive',\n",
              "                                                     [key], {});\n",
              "          if (!dataTable) return;\n",
              "\n",
              "          const docLinkHtml = 'Like what you see? Visit the ' +\n",
              "            '<a target=\"_blank\" href=https://colab.research.google.com/notebooks/data_table.ipynb>data table notebook</a>'\n",
              "            + ' to learn more about interactive tables.';\n",
              "          element.innerHTML = '';\n",
              "          dataTable['output_type'] = 'display_data';\n",
              "          await google.colab.output.renderOutput(dataTable, element);\n",
              "          const docLink = document.createElement('div');\n",
              "          docLink.innerHTML = docLinkHtml;\n",
              "          element.appendChild(docLink);\n",
              "        }\n",
              "      </script>\n",
              "    </div>\n",
              "  </div>\n",
              "  "
            ]
          },
          "metadata": {},
          "execution_count": 132
        }
      ]
    },
    {
      "cell_type": "markdown",
      "source": [
        "**Saving the Output DataFrame into a CSV File** "
      ],
      "metadata": {
        "id": "xxfvh1B1hidK"
      }
    },
    {
      "cell_type": "code",
      "source": [
        "output.to_csv('final_17.csv',index=False)"
      ],
      "metadata": {
        "id": "z9i9VC7-1YCs"
      },
      "execution_count": null,
      "outputs": []
    }
  ]
}
